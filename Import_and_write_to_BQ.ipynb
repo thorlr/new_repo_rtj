{
 "cells": [
  {
   "cell_type": "code",
   "execution_count": 1,
   "id": "7fbb6a48-2317-41e8-a873-2f40640a22f6",
   "metadata": {},
   "outputs": [
    {
     "name": "stdout",
     "output_type": "stream",
     "text": [
      "Client creating using default project: ons-ids-analysis-uat\n"
     ]
    }
   ],
   "source": [
    "from google.cloud import bigquery\n",
    "import pandas as pd\n",
    "\n",
    "client = bigquery.Client(location=\" europe-west2\")\n",
    "print(\"Client creating using default project: {}\".format(client.project))\n"
   ]
  },
  {
   "cell_type": "code",
   "execution_count": 4,
   "id": "ff975502-3a63-41e8-9669-0687f74bde4d",
   "metadata": {},
   "outputs": [
    {
     "name": "stderr",
     "output_type": "stream",
     "text": [
      "100%|██████████| 1/1 [00:00<00:00, 5419.00it/s]\n"
     ]
    }
   ],
   "source": [
    "#Select the dataset and display first and last rows of it\n",
    "query = \"\"\"\n",
    "SELECT SPECIES, ISLAND, culmen_length_mm, culmen_depth_mm, flipper_length_mm, body_mass_g, sex\n",
    "FROM `ons-ids-analysis-uat.uat_wip_notebook.penguins` \n",
    "\"\"\"\n",
    "query_job = client.query(\n",
    "    query,\n",
    "    # Location must match that of the dataset(s) referenced in the query.\n",
    "    location=\"europe-west2\",\n",
    ")  # API request - starts the query\n",
    "\n",
    "all_metrics = query_job.to_dataframe()\n",
    "all_metrics\n",
    "\n",
    "Penguins = all_metrics\n",
    "Penguins\n",
    "\n",
    "#Read Table back into Analysis\n",
    "import pandas_gbq\n",
    "project_id = \"ons-ids-analysis-uat\"\n",
    "table_id = 'uat_wip_notebook.PenguinsTestRT'\n",
    "pandas_gbq.to_gbq(Penguins, table_id, project_id=project_id)\n"
   ]
  },
  {
   "cell_type": "code",
   "execution_count": null,
   "id": "64407dd5-abd9-414d-aa5e-b3e45941c0f2",
   "metadata": {},
   "outputs": [],
   "source": []
  }
 ],
 "metadata": {
  "environment": {
   "kernel": "python3",
   "name": "r-cpu.4-2.m100",
   "type": "gcloud",
   "uri": "gcr.io/deeplearning-platform-release/r-cpu.4-2:m100"
  },
  "kernelspec": {
   "display_name": "Python 3",
   "language": "python",
   "name": "python3"
  },
  "language_info": {
   "codemirror_mode": {
    "name": "ipython",
    "version": 3
   },
   "file_extension": ".py",
   "mimetype": "text/x-python",
   "name": "python",
   "nbconvert_exporter": "python",
   "pygments_lexer": "ipython3",
   "version": "3.7.12"
  }
 },
 "nbformat": 4,
 "nbformat_minor": 5
}
